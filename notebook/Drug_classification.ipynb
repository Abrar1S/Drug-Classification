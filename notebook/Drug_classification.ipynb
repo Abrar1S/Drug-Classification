{
 "cells": [
  {
   "cell_type": "markdown",
   "id": "f8a42479",
   "metadata": {},
   "source": [
    "## Project on Drug Classification\n",
    "\n",
    "Todos:\n",
    "- Do visualization and analysis to understand the dataset .\n",
    "- Apply Random Forest.\n",
    "- Plot AUC-ROC curve."
   ]
  },
  {
   "cell_type": "code",
   "execution_count": 1,
   "id": "901a389c",
   "metadata": {},
   "outputs": [],
   "source": [
    "#import all the libraries\n",
    "\n",
    "import pandas as pd\n",
    "# warning remove\n",
    "import warnings\n",
    "warnings.filterwarnings('ignore')\n",
    "import numpy as np\n",
    "import matplotlib.pyplot as plt\n",
    "import pandas as pd\n",
    "import seaborn as sns\n",
    "%matplotlib inline\n",
    "from sklearn.model_selection import train_test_split\n",
    "from sklearn.ensemble import RandomForestClassifier\n",
    "from sklearn.model_selection import GridSearchCV,cross_val_score\n",
    "from sklearn.metrics import classification_report,roc_curve, auc,roc_auc_score \n",
    "from sklearn.preprocessing import LabelEncoder\n",
    "from sklearn.multiclass import OneVsRestClassifier\n",
    "from joblib import dump, load"
   ]
  },
  {
   "cell_type": "code",
   "execution_count": 2,
   "id": "38dd8927",
   "metadata": {},
   "outputs": [],
   "source": [
    "df = pd.read_csv(\"G:/Data science Course/Assignments/model_version_assignment/model_version_asnmngt/data/drug200.csv\") # Reading csv file"
   ]
  },
  {
   "cell_type": "code",
   "execution_count": 3,
   "id": "0394186e",
   "metadata": {},
   "outputs": [
    {
     "data": {
      "text/html": [
       "<div>\n",
       "<style scoped>\n",
       "    .dataframe tbody tr th:only-of-type {\n",
       "        vertical-align: middle;\n",
       "    }\n",
       "\n",
       "    .dataframe tbody tr th {\n",
       "        vertical-align: top;\n",
       "    }\n",
       "\n",
       "    .dataframe thead th {\n",
       "        text-align: right;\n",
       "    }\n",
       "</style>\n",
       "<table border=\"1\" class=\"dataframe\">\n",
       "  <thead>\n",
       "    <tr style=\"text-align: right;\">\n",
       "      <th></th>\n",
       "      <th>Age</th>\n",
       "      <th>Sex</th>\n",
       "      <th>BP</th>\n",
       "      <th>Cholesterol</th>\n",
       "      <th>Na_to_K</th>\n",
       "      <th>Drug</th>\n",
       "    </tr>\n",
       "  </thead>\n",
       "  <tbody>\n",
       "    <tr>\n",
       "      <th>0</th>\n",
       "      <td>23</td>\n",
       "      <td>F</td>\n",
       "      <td>HIGH</td>\n",
       "      <td>HIGH</td>\n",
       "      <td>25.355</td>\n",
       "      <td>DrugY</td>\n",
       "    </tr>\n",
       "    <tr>\n",
       "      <th>1</th>\n",
       "      <td>47</td>\n",
       "      <td>M</td>\n",
       "      <td>LOW</td>\n",
       "      <td>HIGH</td>\n",
       "      <td>13.093</td>\n",
       "      <td>drugC</td>\n",
       "    </tr>\n",
       "    <tr>\n",
       "      <th>2</th>\n",
       "      <td>47</td>\n",
       "      <td>M</td>\n",
       "      <td>LOW</td>\n",
       "      <td>HIGH</td>\n",
       "      <td>10.114</td>\n",
       "      <td>drugC</td>\n",
       "    </tr>\n",
       "    <tr>\n",
       "      <th>3</th>\n",
       "      <td>28</td>\n",
       "      <td>F</td>\n",
       "      <td>NORMAL</td>\n",
       "      <td>HIGH</td>\n",
       "      <td>7.798</td>\n",
       "      <td>drugX</td>\n",
       "    </tr>\n",
       "    <tr>\n",
       "      <th>4</th>\n",
       "      <td>61</td>\n",
       "      <td>F</td>\n",
       "      <td>LOW</td>\n",
       "      <td>HIGH</td>\n",
       "      <td>18.043</td>\n",
       "      <td>DrugY</td>\n",
       "    </tr>\n",
       "  </tbody>\n",
       "</table>\n",
       "</div>"
      ],
      "text/plain": [
       "   Age Sex      BP Cholesterol  Na_to_K   Drug\n",
       "0   23   F    HIGH        HIGH   25.355  DrugY\n",
       "1   47   M     LOW        HIGH   13.093  drugC\n",
       "2   47   M     LOW        HIGH   10.114  drugC\n",
       "3   28   F  NORMAL        HIGH    7.798  drugX\n",
       "4   61   F     LOW        HIGH   18.043  DrugY"
      ]
     },
     "execution_count": 3,
     "metadata": {},
     "output_type": "execute_result"
    }
   ],
   "source": [
    "df.head()"
   ]
  },
  {
   "cell_type": "code",
   "execution_count": 4,
   "id": "a3f5de73",
   "metadata": {},
   "outputs": [],
   "source": [
    "df1 = df.copy() "
   ]
  },
  {
   "cell_type": "code",
   "execution_count": 5,
   "id": "923f8c3e",
   "metadata": {},
   "outputs": [
    {
     "data": {
      "text/plain": [
       "Age            0\n",
       "Sex            0\n",
       "BP             0\n",
       "Cholesterol    0\n",
       "Na_to_K        0\n",
       "Drug           0\n",
       "dtype: int64"
      ]
     },
     "execution_count": 5,
     "metadata": {},
     "output_type": "execute_result"
    }
   ],
   "source": [
    "# cheching if there is any missing values\n",
    "df1.isnull().sum()"
   ]
  },
  {
   "cell_type": "markdown",
   "id": "c991fbd5",
   "metadata": {},
   "source": [
    "##### The dataset does not have any missing values."
   ]
  },
  {
   "cell_type": "markdown",
   "id": "209b481f",
   "metadata": {},
   "source": [
    "### Data visualization and analysis"
   ]
  },
  {
   "cell_type": "code",
   "execution_count": 6,
   "id": "88d7de63",
   "metadata": {},
   "outputs": [
    {
     "data": {
      "image/png": "[encoded data removed]",
      "text/plain": [
       "<Figure size 1296x432 with 2 Axes>"
      ]
     },
     "metadata": {
      "needs_background": "light"
     },
     "output_type": "display_data"
    }
   ],
   "source": [
    "# histogram for each numerical type attributes\n",
    "df1.hist(bins=10,figsize=(18,6));"
   ]
  },
  {
   "cell_type": "markdown",
   "id": "28956a99",
   "metadata": {},
   "source": [
    "##### From this two histogram we can come up with these decisions. First, Age is distributed and even though it is not properly normally distributed we can get some ideas about the frequencies of the age data. People who have the age range between 45 to 50 are the most in numbers. Second, the Na to Potassium Ration distribution is in right skewed manner."
   ]
  },
  {
   "cell_type": "code",
   "execution_count": 7,
   "id": "84451fcb",
   "metadata": {},
   "outputs": [
    {
     "data": {
      "image/png": "[encoded data removed]",
      "text/plain": [
       "<Figure size 1296x432 with 1 Axes>"
      ]
     },
     "metadata": {},
     "output_type": "display_data"
    }
   ],
   "source": [
    "sns.set(rc = {'figure.figsize':(18, 6)})\n",
    "\n",
    "ax = sns.histplot(x=df1['Age'], bins=10, kde=True)\n",
    "\n",
    "quant_5, quant_25, quant_50, quant_75, quant_95 = df1['Age'].quantile(0.05), df1['Age'].quantile(0.25), df1['Age'].quantile(0.5), df1['Age'].quantile(0.75), df1['Age'].quantile(0.95)\n",
    "quant_dict = {'5%': quant_5, '25%': quant_25, '50%': quant_50, '75%': quant_75, '95%': quant_95}\n",
    "\n",
    "kdeline = ax.lines[0]\n",
    "xs = kdeline.get_xdata()\n",
    "ys = kdeline.get_ydata()\n",
    "\n",
    "for key, value in quant_dict.items():\n",
    "    height = np.interp(value, xs, ys)\n",
    "    ax.vlines(value, 0, height,  ls=':')\n",
    "    ax.text(value , height * 0.5, key, rotation=0)\n",
    "    \n",
    "plt.show()"
   ]
  },
  {
   "cell_type": "markdown",
   "id": "5606b750",
   "metadata": {},
   "source": [
    "##### Histogram of Age using kdeplot to show the continous curve based on these age information density. How the 'measure of dispersion' works is also shown from 5 quantile to 95 quantile."
   ]
  },
  {
   "cell_type": "code",
   "execution_count": 8,
   "id": "020c863b",
   "metadata": {},
   "outputs": [
    {
     "data": {
      "image/png": "[encoded data removed]",
      "text/plain": [
       "<Figure size 1008x432 with 1 Axes>"
      ]
     },
     "metadata": {},
     "output_type": "display_data"
    }
   ],
   "source": [
    "sns.set(rc = {'figure.figsize':(14, 6)})\n",
    "\n",
    "ax = sns.histplot(x=df1['Na_to_K'],bins=10, kde=True)\n",
    "\n",
    "quant_5, quant_25, quant_50, quant_75, quant_95 = df1['Na_to_K'].quantile(0.05), df1['Na_to_K'].quantile(0.25), df1['Na_to_K'].quantile(0.5), df1['Na_to_K'].quantile(0.75), df1['Na_to_K'].quantile(0.95)\n",
    "quant_dict = {'5%': quant_5, '25%': quant_25, '50%': quant_50, '75%': quant_75, '95%': quant_95}\n",
    "\n",
    "kdeline = ax.lines[0]\n",
    "xs = kdeline.get_xdata()\n",
    "ys = kdeline.get_ydata()\n",
    "\n",
    "for key, value in quant_dict.items():\n",
    "    height = np.interp(value, xs, ys)\n",
    "    ax.vlines(value, 0, height,  ls=':')\n",
    "    ax.text(value , height * 0.5, key, rotation=0)\n",
    "    \n",
    "plt.show()"
   ]
  },
  {
   "cell_type": "markdown",
   "id": "208d66d2",
   "metadata": {},
   "source": [
    "##### Histogram of Na to Potassium Ration using kdeplot to show the continous curve based on these Na to Potassium Ration information density. How the 'measure of dispersion' works is also shown from 5 quantile to 95 quantile."
   ]
  },
  {
   "cell_type": "code",
   "execution_count": 9,
   "id": "827c5562",
   "metadata": {},
   "outputs": [
    {
     "data": {
      "image/png": "[encoded data removed]",
      "text/plain": [
       "<Figure size 648x504 with 1 Axes>"
      ]
     },
     "metadata": {},
     "output_type": "display_data"
    }
   ],
   "source": [
    "plt.figure(figsize=(9,7))\n",
    "ax = sns.scatterplot(x='Age',y='Na_to_K',data=df1,palette='hot',hue='Sex')\n",
    "ax.set_title('Scatter plot of charges and age');"
   ]
  },
  {
   "cell_type": "markdown",
   "id": "746c4572",
   "metadata": {},
   "source": [
    "##### Above is the scatterplot to understand the relation between age and Na to Potassium Ration based on male and female patients."
   ]
  },
  {
   "cell_type": "code",
   "execution_count": 10,
   "id": "5b818612",
   "metadata": {},
   "outputs": [
    {
     "data": {
      "image/png": "[encoded data removed]",
      "text/plain": [
       "<Figure size 648x504 with 1 Axes>"
      ]
     },
     "metadata": {},
     "output_type": "display_data"
    }
   ],
   "source": [
    "plt.figure(figsize=(9,7))\n",
    "ax = sns.scatterplot(x='Age',y='Drug',data=df1,palette='magma',hue='Sex')\n",
    "ax.set_title('Scatter plot of Drug and Age');"
   ]
  },
  {
   "cell_type": "markdown",
   "id": "234fdfda",
   "metadata": {},
   "source": [
    "##### Above is the scatterplot to understand the relation between age and Drug based on male and female patients."
   ]
  },
  {
   "cell_type": "code",
   "execution_count": 11,
   "id": "721b95f0",
   "metadata": {},
   "outputs": [
    {
     "data": {
      "image/png": "[encoded data removed]",
      "text/plain": [
       "<Figure size 648x360 with 1 Axes>"
      ]
     },
     "metadata": {},
     "output_type": "display_data"
    }
   ],
   "source": [
    "plt.figure(figsize=(9,5))\n",
    "sns.countplot(x = df1.Sex,palette='magma')\n",
    "plt.show()"
   ]
  },
  {
   "cell_type": "markdown",
   "id": "b42a46db",
   "metadata": {},
   "source": [
    "##### In order to understand the distribution of male and female patients seaborns countplot is used on male and female patients."
   ]
  },
  {
   "cell_type": "code",
   "execution_count": 12,
   "id": "5c584c02",
   "metadata": {},
   "outputs": [
    {
     "data": {
      "image/png": "[encoded data removed]",
      "text/plain": [
       "<Figure size 648x360 with 1 Axes>"
      ]
     },
     "metadata": {},
     "output_type": "display_data"
    }
   ],
   "source": [
    "plt.figure(figsize=(9,5))\n",
    "sns.countplot(x = df1.BP,palette=\"crest\")\n",
    "plt.show()"
   ]
  },
  {
   "cell_type": "markdown",
   "id": "89bfe944",
   "metadata": {},
   "source": [
    "##### The above countplot helps us to understand the distribution of blood pressure of all the patients. We can see the distribution of 'High','Low' and 'Normal' blood pressure categories."
   ]
  },
  {
   "cell_type": "code",
   "execution_count": 13,
   "id": "9bed5da3",
   "metadata": {},
   "outputs": [
    {
     "data": {
      "image/png": "[encoded data removed]",
      "text/plain": [
       "<Figure size 648x360 with 1 Axes>"
      ]
     },
     "metadata": {},
     "output_type": "display_data"
    }
   ],
   "source": [
    "plt.figure(figsize=(9,5))\n",
    "sns.countplot(x = df1.Cholesterol,palette=\"rocket\")\n",
    "plt.show()"
   ]
  },
  {
   "cell_type": "markdown",
   "id": "15e1714b",
   "metadata": {},
   "source": [
    "##### The above countplot helps us to understand the distribution of Cholesterol of all the patients. We can see the distribution of 'High' and 'Normal' Cholesterol categories."
   ]
  },
  {
   "cell_type": "code",
   "execution_count": 14,
   "id": "802de180",
   "metadata": {},
   "outputs": [
    {
     "data": {
      "image/png": "[encoded data removed]",
      "text/plain": [
       "<Figure size 648x360 with 1 Axes>"
      ]
     },
     "metadata": {},
     "output_type": "display_data"
    }
   ],
   "source": [
    "plt.figure(figsize=(9,5))\n",
    "sns.countplot(x = df1.Drug,palette='magma')\n",
    "plt.show()"
   ]
  },
  {
   "cell_type": "markdown",
   "id": "5a53f486",
   "metadata": {},
   "source": [
    "##### The above countplot helps us to understand the distribution of Drug between all the patients. We can see the distribution of 'DrugY' is highest and 'drugC' is lowest."
   ]
  },
  {
   "cell_type": "code",
   "execution_count": 15,
   "id": "9d21a131",
   "metadata": {},
   "outputs": [
    {
     "data": {
      "image/png": "[encoded data removed]",
      "text/plain": [
       "<Figure size 648x360 with 1 Axes>"
      ]
     },
     "metadata": {},
     "output_type": "display_data"
    }
   ],
   "source": [
    "plt.figure(figsize = (9,5))\n",
    "sns.barplot(data = df1,x = \"Drug\", y = \"Age\",palette='magma',hue='Sex')\n",
    "plt.title(\"Age -- Drug\")\n",
    "plt.show()"
   ]
  },
  {
   "cell_type": "markdown",
   "id": "92a06112",
   "metadata": {},
   "source": [
    "##### The above barplot shows which type of drugs are distributed against the age of patient depending on their sex."
   ]
  },
  {
   "cell_type": "code",
   "execution_count": 16,
   "id": "7079109f",
   "metadata": {},
   "outputs": [
    {
     "data": {
      "image/png": "[encoded data removed]",
      "text/plain": [
       "<Figure size 648x360 with 1 Axes>"
      ]
     },
     "metadata": {},
     "output_type": "display_data"
    }
   ],
   "source": [
    "plt.figure(figsize = (9,5))\n",
    "sns.barplot(data = df1,x = \"Drug\", y = \"Na_to_K\",palette='crest',hue='Sex')\n",
    "plt.title(\"Na_to_K -- Drug\")\n",
    "plt.show()"
   ]
  },
  {
   "cell_type": "markdown",
   "id": "615f5e4d",
   "metadata": {},
   "source": [
    "##### The above barplot shows which type of drugs are distributed against  Na to Potassium Ration depending on their sex."
   ]
  },
  {
   "cell_type": "code",
   "execution_count": 17,
   "id": "5b9ac803",
   "metadata": {},
   "outputs": [
    {
     "data": {
      "text/html": [
       "<div>\n",
       "<style scoped>\n",
       "    .dataframe tbody tr th:only-of-type {\n",
       "        vertical-align: middle;\n",
       "    }\n",
       "\n",
       "    .dataframe tbody tr th {\n",
       "        vertical-align: top;\n",
       "    }\n",
       "\n",
       "    .dataframe thead th {\n",
       "        text-align: right;\n",
       "    }\n",
       "</style>\n",
       "<table border=\"1\" class=\"dataframe\">\n",
       "  <thead>\n",
       "    <tr style=\"text-align: right;\">\n",
       "      <th></th>\n",
       "      <th>Drug</th>\n",
       "      <th>Sex</th>\n",
       "      <th>Count</th>\n",
       "    </tr>\n",
       "  </thead>\n",
       "  <tbody>\n",
       "    <tr>\n",
       "      <th>0</th>\n",
       "      <td>DrugY</td>\n",
       "      <td>F</td>\n",
       "      <td>47</td>\n",
       "    </tr>\n",
       "    <tr>\n",
       "      <th>1</th>\n",
       "      <td>DrugY</td>\n",
       "      <td>M</td>\n",
       "      <td>44</td>\n",
       "    </tr>\n",
       "    <tr>\n",
       "      <th>2</th>\n",
       "      <td>drugA</td>\n",
       "      <td>F</td>\n",
       "      <td>9</td>\n",
       "    </tr>\n",
       "    <tr>\n",
       "      <th>3</th>\n",
       "      <td>drugA</td>\n",
       "      <td>M</td>\n",
       "      <td>14</td>\n",
       "    </tr>\n",
       "    <tr>\n",
       "      <th>4</th>\n",
       "      <td>drugB</td>\n",
       "      <td>F</td>\n",
       "      <td>6</td>\n",
       "    </tr>\n",
       "    <tr>\n",
       "      <th>5</th>\n",
       "      <td>drugB</td>\n",
       "      <td>M</td>\n",
       "      <td>10</td>\n",
       "    </tr>\n",
       "    <tr>\n",
       "      <th>6</th>\n",
       "      <td>drugC</td>\n",
       "      <td>F</td>\n",
       "      <td>7</td>\n",
       "    </tr>\n",
       "    <tr>\n",
       "      <th>7</th>\n",
       "      <td>drugC</td>\n",
       "      <td>M</td>\n",
       "      <td>9</td>\n",
       "    </tr>\n",
       "    <tr>\n",
       "      <th>8</th>\n",
       "      <td>drugX</td>\n",
       "      <td>F</td>\n",
       "      <td>27</td>\n",
       "    </tr>\n",
       "    <tr>\n",
       "      <th>9</th>\n",
       "      <td>drugX</td>\n",
       "      <td>M</td>\n",
       "      <td>27</td>\n",
       "    </tr>\n",
       "  </tbody>\n",
       "</table>\n",
       "</div>"
      ],
      "text/plain": [
       "    Drug Sex  Count\n",
       "0  DrugY   F     47\n",
       "1  DrugY   M     44\n",
       "2  drugA   F      9\n",
       "3  drugA   M     14\n",
       "4  drugB   F      6\n",
       "5  drugB   M     10\n",
       "6  drugC   F      7\n",
       "7  drugC   M      9\n",
       "8  drugX   F     27\n",
       "9  drugX   M     27"
      ]
     },
     "execution_count": 17,
     "metadata": {},
     "output_type": "execute_result"
    }
   ],
   "source": [
    "df_Sex_Drug = df1.groupby([\"Drug\",\"Sex\"]).size().reset_index(name = \"Count\")\n",
    "df_Sex_Drug"
   ]
  },
  {
   "cell_type": "markdown",
   "id": "512ec3a6",
   "metadata": {},
   "source": [
    "##### According to sex how many drugs are distributed can be shown."
   ]
  },
  {
   "cell_type": "code",
   "execution_count": 18,
   "id": "499f9626",
   "metadata": {},
   "outputs": [
    {
     "data": {
      "image/png": "[encoded data removed]",
      "text/plain": [
       "<Figure size 648x360 with 1 Axes>"
      ]
     },
     "metadata": {},
     "output_type": "display_data"
    }
   ],
   "source": [
    "plt.figure(figsize = (9,5))\n",
    "sns.barplot(data = df_Sex_Drug,x = \"Drug\",y=\"Count\", hue = \"Sex\",palette='magma')\n",
    "plt.title(\"Sex -- Drug\")\n",
    "plt.show()"
   ]
  },
  {
   "cell_type": "markdown",
   "id": "3edab29a",
   "metadata": {},
   "source": [
    "##### From the above barplot we can see female people need more DrugY than male, although drugA,drugB and drugC has the inverse distribution. drugX is distributed equally amongst both male and female patients."
   ]
  },
  {
   "cell_type": "code",
   "execution_count": 19,
   "id": "cc668e20",
   "metadata": {},
   "outputs": [
    {
     "data": {
      "text/html": [
       "<div>\n",
       "<style scoped>\n",
       "    .dataframe tbody tr th:only-of-type {\n",
       "        vertical-align: middle;\n",
       "    }\n",
       "\n",
       "    .dataframe tbody tr th {\n",
       "        vertical-align: top;\n",
       "    }\n",
       "\n",
       "    .dataframe thead th {\n",
       "        text-align: right;\n",
       "    }\n",
       "</style>\n",
       "<table border=\"1\" class=\"dataframe\">\n",
       "  <thead>\n",
       "    <tr style=\"text-align: right;\">\n",
       "      <th></th>\n",
       "      <th>Drug</th>\n",
       "      <th>BP</th>\n",
       "      <th>Count</th>\n",
       "    </tr>\n",
       "  </thead>\n",
       "  <tbody>\n",
       "    <tr>\n",
       "      <th>0</th>\n",
       "      <td>DrugY</td>\n",
       "      <td>HIGH</td>\n",
       "      <td>38</td>\n",
       "    </tr>\n",
       "    <tr>\n",
       "      <th>1</th>\n",
       "      <td>DrugY</td>\n",
       "      <td>LOW</td>\n",
       "      <td>30</td>\n",
       "    </tr>\n",
       "    <tr>\n",
       "      <th>2</th>\n",
       "      <td>DrugY</td>\n",
       "      <td>NORMAL</td>\n",
       "      <td>23</td>\n",
       "    </tr>\n",
       "    <tr>\n",
       "      <th>3</th>\n",
       "      <td>drugA</td>\n",
       "      <td>HIGH</td>\n",
       "      <td>23</td>\n",
       "    </tr>\n",
       "    <tr>\n",
       "      <th>4</th>\n",
       "      <td>drugB</td>\n",
       "      <td>HIGH</td>\n",
       "      <td>16</td>\n",
       "    </tr>\n",
       "    <tr>\n",
       "      <th>5</th>\n",
       "      <td>drugC</td>\n",
       "      <td>LOW</td>\n",
       "      <td>16</td>\n",
       "    </tr>\n",
       "    <tr>\n",
       "      <th>6</th>\n",
       "      <td>drugX</td>\n",
       "      <td>LOW</td>\n",
       "      <td>18</td>\n",
       "    </tr>\n",
       "    <tr>\n",
       "      <th>7</th>\n",
       "      <td>drugX</td>\n",
       "      <td>NORMAL</td>\n",
       "      <td>36</td>\n",
       "    </tr>\n",
       "  </tbody>\n",
       "</table>\n",
       "</div>"
      ],
      "text/plain": [
       "    Drug      BP  Count\n",
       "0  DrugY    HIGH     38\n",
       "1  DrugY     LOW     30\n",
       "2  DrugY  NORMAL     23\n",
       "3  drugA    HIGH     23\n",
       "4  drugB    HIGH     16\n",
       "5  drugC     LOW     16\n",
       "6  drugX     LOW     18\n",
       "7  drugX  NORMAL     36"
      ]
     },
     "execution_count": 19,
     "metadata": {},
     "output_type": "execute_result"
    }
   ],
   "source": [
    "df_BP_Drug = df1.groupby([\"Drug\",\"BP\"]).size().reset_index(name = \"Count\")\n",
    "df_BP_Drug"
   ]
  },
  {
   "cell_type": "markdown",
   "id": "db986c68",
   "metadata": {},
   "source": [
    "##### According to BP how many drugs are distributed can be shown."
   ]
  },
  {
   "cell_type": "code",
   "execution_count": 20,
   "id": "fe11125f",
   "metadata": {},
   "outputs": [
    {
     "data": {
      "image/png": "[encoded data removed]",
      "text/plain": [
       "<Figure size 648x360 with 1 Axes>"
      ]
     },
     "metadata": {},
     "output_type": "display_data"
    }
   ],
   "source": [
    "plt.figure(figsize = (9,5))\n",
    "sns.barplot(data = df_BP_Drug,x = \"Drug\",y=\"Count\", hue = \"BP\",palette='crest')\n",
    "plt.title(\"BP -- Drug\")\n",
    "plt.show()"
   ]
  },
  {
   "cell_type": "markdown",
   "id": "b3c82fcd",
   "metadata": {},
   "source": [
    "##### From the above barplot we can see that drugA and drugB is distributed amongst the patients who are suffering from high blood pressure. \n",
    "##### drugC is distributed amongst the patients who are suffering from normal blood pressure.\n",
    "##### drugX is distributed amongst the patients who are suffering from both normal and low blood pressure although the distribution is higher for normal blood pressure. \n",
    "##### DrugY is distributed amongst the patients who are suffering from high,normal and low blood pressure. DrugY is mostly used for high blood pressure then its second priority is to work for low blood pressure and then for normal blood pressure. Thus. DrugY is distributed accordingly."
   ]
  },
  {
   "cell_type": "code",
   "execution_count": 21,
   "id": "d4536bcd",
   "metadata": {},
   "outputs": [
    {
     "data": {
      "text/html": [
       "<div>\n",
       "<style scoped>\n",
       "    .dataframe tbody tr th:only-of-type {\n",
       "        vertical-align: middle;\n",
       "    }\n",
       "\n",
       "    .dataframe tbody tr th {\n",
       "        vertical-align: top;\n",
       "    }\n",
       "\n",
       "    .dataframe thead th {\n",
       "        text-align: right;\n",
       "    }\n",
       "</style>\n",
       "<table border=\"1\" class=\"dataframe\">\n",
       "  <thead>\n",
       "    <tr style=\"text-align: right;\">\n",
       "      <th></th>\n",
       "      <th>Drug</th>\n",
       "      <th>Cholesterol</th>\n",
       "      <th>Count</th>\n",
       "    </tr>\n",
       "  </thead>\n",
       "  <tbody>\n",
       "    <tr>\n",
       "      <th>0</th>\n",
       "      <td>DrugY</td>\n",
       "      <td>HIGH</td>\n",
       "      <td>47</td>\n",
       "    </tr>\n",
       "    <tr>\n",
       "      <th>1</th>\n",
       "      <td>DrugY</td>\n",
       "      <td>NORMAL</td>\n",
       "      <td>44</td>\n",
       "    </tr>\n",
       "    <tr>\n",
       "      <th>2</th>\n",
       "      <td>drugA</td>\n",
       "      <td>HIGH</td>\n",
       "      <td>12</td>\n",
       "    </tr>\n",
       "    <tr>\n",
       "      <th>3</th>\n",
       "      <td>drugA</td>\n",
       "      <td>NORMAL</td>\n",
       "      <td>11</td>\n",
       "    </tr>\n",
       "    <tr>\n",
       "      <th>4</th>\n",
       "      <td>drugB</td>\n",
       "      <td>HIGH</td>\n",
       "      <td>8</td>\n",
       "    </tr>\n",
       "    <tr>\n",
       "      <th>5</th>\n",
       "      <td>drugB</td>\n",
       "      <td>NORMAL</td>\n",
       "      <td>8</td>\n",
       "    </tr>\n",
       "    <tr>\n",
       "      <th>6</th>\n",
       "      <td>drugC</td>\n",
       "      <td>HIGH</td>\n",
       "      <td>16</td>\n",
       "    </tr>\n",
       "    <tr>\n",
       "      <th>7</th>\n",
       "      <td>drugX</td>\n",
       "      <td>HIGH</td>\n",
       "      <td>20</td>\n",
       "    </tr>\n",
       "    <tr>\n",
       "      <th>8</th>\n",
       "      <td>drugX</td>\n",
       "      <td>NORMAL</td>\n",
       "      <td>34</td>\n",
       "    </tr>\n",
       "  </tbody>\n",
       "</table>\n",
       "</div>"
      ],
      "text/plain": [
       "    Drug Cholesterol  Count\n",
       "0  DrugY        HIGH     47\n",
       "1  DrugY      NORMAL     44\n",
       "2  drugA        HIGH     12\n",
       "3  drugA      NORMAL     11\n",
       "4  drugB        HIGH      8\n",
       "5  drugB      NORMAL      8\n",
       "6  drugC        HIGH     16\n",
       "7  drugX        HIGH     20\n",
       "8  drugX      NORMAL     34"
      ]
     },
     "execution_count": 21,
     "metadata": {},
     "output_type": "execute_result"
    }
   ],
   "source": [
    "df_Cholesterol_Drug = df1.groupby([\"Drug\",\"Cholesterol\"]).size().reset_index(name = \"Count\")\n",
    "df_Cholesterol_Drug"
   ]
  },
  {
   "cell_type": "markdown",
   "id": "1651fc85",
   "metadata": {},
   "source": [
    "##### According to Cholesterol how many drugs are distributed can be shown."
   ]
  },
  {
   "cell_type": "code",
   "execution_count": 22,
   "id": "08d090e7",
   "metadata": {},
   "outputs": [
    {
     "data": {
      "image/png": "[encoded data removed]",
      "text/plain": [
       "<Figure size 648x360 with 1 Axes>"
      ]
     },
     "metadata": {},
     "output_type": "display_data"
    }
   ],
   "source": [
    "plt.figure(figsize = (9,5))\n",
    "sns.barplot(data = df_Cholesterol_Drug,x = \"Drug\",y=\"Count\", hue = \"Cholesterol\",palette='rocket')\n",
    "plt.title(\"Cholesterol -- Drug\")\n",
    "plt.show()"
   ]
  },
  {
   "cell_type": "markdown",
   "id": "1aec8094",
   "metadata": {},
   "source": [
    "##### DrugY, drugA, drugB, drugX is distributed for both high and normal cholesterol. DrugY, drugA and drugB distributed quite evenly for both high and normal cholesterol, although DrugY has higher distribution than both drugA and drugB. \n",
    "##### On the other hand, drugX is distributed higher for normal cholesterol than high cholesterol. \n",
    "##### And drugC is distributed only for high cholesterol."
   ]
  },
  {
   "cell_type": "markdown",
   "id": "bc9b50f1",
   "metadata": {},
   "source": [
    "### Feature engineering model training and prediction"
   ]
  },
  {
   "cell_type": "markdown",
   "id": "005b8a53",
   "metadata": {},
   "source": [
    "##### We will use label encoder to label the categorical features into numrical features."
   ]
  },
  {
   "cell_type": "code",
   "execution_count": 23,
   "id": "0606de33",
   "metadata": {},
   "outputs": [],
   "source": [
    "le=LabelEncoder()\n",
    "df1['Sex']= le.fit_transform(df['Sex'])\n",
    "df1['BP']= le.fit_transform(df['BP'])\n",
    "df1['Cholesterol']= le.fit_transform(df['Cholesterol'])\n",
    "df1['Drug']= le.fit_transform(df['Drug'])\n",
    "df1['Na_to_K']= le.fit_transform(df['Na_to_K'])"
   ]
  },
  {
   "cell_type": "code",
   "execution_count": 24,
   "id": "693eff0e",
   "metadata": {},
   "outputs": [
    {
     "data": {
      "text/plain": [
       "array([0, 1])"
      ]
     },
     "execution_count": 24,
     "metadata": {},
     "output_type": "execute_result"
    }
   ],
   "source": [
    "df1.Sex.unique() # 0 = F, 1 = M"
   ]
  },
  {
   "cell_type": "code",
   "execution_count": 25,
   "id": "b8516a6c",
   "metadata": {},
   "outputs": [
    {
     "data": {
      "text/plain": [
       "array([0, 1, 2])"
      ]
     },
     "execution_count": 25,
     "metadata": {},
     "output_type": "execute_result"
    }
   ],
   "source": [
    "df1.BP.unique() # 0 = HIGH ,low = 1, NORMAL = 2"
   ]
  },
  {
   "cell_type": "code",
   "execution_count": 26,
   "id": "68807d83",
   "metadata": {},
   "outputs": [
    {
     "data": {
      "text/plain": [
       "array([0, 1])"
      ]
     },
     "execution_count": 26,
     "metadata": {},
     "output_type": "execute_result"
    }
   ],
   "source": [
    "df1.Cholesterol.unique() # 0 = HIGH , NORMAL = 1"
   ]
  },
  {
   "cell_type": "code",
   "execution_count": 27,
   "id": "792dc892",
   "metadata": {},
   "outputs": [
    {
     "data": {
      "text/plain": [
       "array([0, 3, 4, 1, 2])"
      ]
     },
     "execution_count": 27,
     "metadata": {},
     "output_type": "execute_result"
    }
   ],
   "source": [
    "df1.Drug.unique()  # 0 = DrugY, 1 = drugA, 2 = drugB, 3 = drugC, 4 = drugX"
   ]
  },
  {
   "cell_type": "code",
   "execution_count": 28,
   "id": "a14f0e03",
   "metadata": {},
   "outputs": [
    {
     "data": {
      "text/plain": [
       "array([0, 3, 4, 1, 2])"
      ]
     },
     "execution_count": 28,
     "metadata": {},
     "output_type": "execute_result"
    }
   ],
   "source": [
    "df1.Drug.unique()  # 0 = DrugY, 1 = drugA, 2 = drugB, 3 = drugC, 4 = drugX"
   ]
  },
  {
   "cell_type": "code",
   "execution_count": 29,
   "id": "5502b693",
   "metadata": {},
   "outputs": [
    {
     "data": {
      "text/html": [
       "<div>\n",
       "<style scoped>\n",
       "    .dataframe tbody tr th:only-of-type {\n",
       "        vertical-align: middle;\n",
       "    }\n",
       "\n",
       "    .dataframe tbody tr th {\n",
       "        vertical-align: top;\n",
       "    }\n",
       "\n",
       "    .dataframe thead th {\n",
       "        text-align: right;\n",
       "    }\n",
       "</style>\n",
       "<table border=\"1\" class=\"dataframe\">\n",
       "  <thead>\n",
       "    <tr style=\"text-align: right;\">\n",
       "      <th></th>\n",
       "      <th>Age</th>\n",
       "      <th>Sex</th>\n",
       "      <th>BP</th>\n",
       "      <th>Cholesterol</th>\n",
       "      <th>Na_to_K</th>\n",
       "      <th>Drug</th>\n",
       "    </tr>\n",
       "  </thead>\n",
       "  <tbody>\n",
       "    <tr>\n",
       "      <th>0</th>\n",
       "      <td>23</td>\n",
       "      <td>0</td>\n",
       "      <td>0</td>\n",
       "      <td>0</td>\n",
       "      <td>167</td>\n",
       "      <td>0</td>\n",
       "    </tr>\n",
       "    <tr>\n",
       "      <th>1</th>\n",
       "      <td>47</td>\n",
       "      <td>1</td>\n",
       "      <td>1</td>\n",
       "      <td>0</td>\n",
       "      <td>89</td>\n",
       "      <td>3</td>\n",
       "    </tr>\n",
       "    <tr>\n",
       "      <th>2</th>\n",
       "      <td>47</td>\n",
       "      <td>1</td>\n",
       "      <td>1</td>\n",
       "      <td>0</td>\n",
       "      <td>43</td>\n",
       "      <td>3</td>\n",
       "    </tr>\n",
       "    <tr>\n",
       "      <th>3</th>\n",
       "      <td>28</td>\n",
       "      <td>0</td>\n",
       "      <td>2</td>\n",
       "      <td>0</td>\n",
       "      <td>10</td>\n",
       "      <td>4</td>\n",
       "    </tr>\n",
       "    <tr>\n",
       "      <th>4</th>\n",
       "      <td>61</td>\n",
       "      <td>0</td>\n",
       "      <td>1</td>\n",
       "      <td>0</td>\n",
       "      <td>133</td>\n",
       "      <td>0</td>\n",
       "    </tr>\n",
       "    <tr>\n",
       "      <th>...</th>\n",
       "      <td>...</td>\n",
       "      <td>...</td>\n",
       "      <td>...</td>\n",
       "      <td>...</td>\n",
       "      <td>...</td>\n",
       "      <td>...</td>\n",
       "    </tr>\n",
       "    <tr>\n",
       "      <th>195</th>\n",
       "      <td>56</td>\n",
       "      <td>0</td>\n",
       "      <td>1</td>\n",
       "      <td>0</td>\n",
       "      <td>69</td>\n",
       "      <td>3</td>\n",
       "    </tr>\n",
       "    <tr>\n",
       "      <th>196</th>\n",
       "      <td>16</td>\n",
       "      <td>1</td>\n",
       "      <td>1</td>\n",
       "      <td>0</td>\n",
       "      <td>75</td>\n",
       "      <td>3</td>\n",
       "    </tr>\n",
       "    <tr>\n",
       "      <th>197</th>\n",
       "      <td>52</td>\n",
       "      <td>1</td>\n",
       "      <td>2</td>\n",
       "      <td>0</td>\n",
       "      <td>36</td>\n",
       "      <td>4</td>\n",
       "    </tr>\n",
       "    <tr>\n",
       "      <th>198</th>\n",
       "      <td>23</td>\n",
       "      <td>1</td>\n",
       "      <td>2</td>\n",
       "      <td>1</td>\n",
       "      <td>102</td>\n",
       "      <td>4</td>\n",
       "    </tr>\n",
       "    <tr>\n",
       "      <th>199</th>\n",
       "      <td>40</td>\n",
       "      <td>0</td>\n",
       "      <td>1</td>\n",
       "      <td>1</td>\n",
       "      <td>66</td>\n",
       "      <td>4</td>\n",
       "    </tr>\n",
       "  </tbody>\n",
       "</table>\n",
       "<p>200 rows × 6 columns</p>\n",
       "</div>"
      ],
      "text/plain": [
       "     Age  Sex  BP  Cholesterol  Na_to_K  Drug\n",
       "0     23    0   0            0      167     0\n",
       "1     47    1   1            0       89     3\n",
       "2     47    1   1            0       43     3\n",
       "3     28    0   2            0       10     4\n",
       "4     61    0   1            0      133     0\n",
       "..   ...  ...  ..          ...      ...   ...\n",
       "195   56    0   1            0       69     3\n",
       "196   16    1   1            0       75     3\n",
       "197   52    1   2            0       36     4\n",
       "198   23    1   2            1      102     4\n",
       "199   40    0   1            1       66     4\n",
       "\n",
       "[200 rows x 6 columns]"
      ]
     },
     "execution_count": 29,
     "metadata": {},
     "output_type": "execute_result"
    }
   ],
   "source": [
    "df1"
   ]
  },
  {
   "cell_type": "markdown",
   "id": "611aebf1",
   "metadata": {},
   "source": [
    "##### X is the features and y is the target "
   ]
  },
  {
   "cell_type": "code",
   "execution_count": 30,
   "id": "d3838e9f",
   "metadata": {},
   "outputs": [],
   "source": [
    "X = df1.drop(\"Drug\", axis=1)\n",
    "y = df1.Drug"
   ]
  },
  {
   "cell_type": "code",
   "execution_count": 31,
   "id": "a8a6cbc6",
   "metadata": {},
   "outputs": [],
   "source": [
    "X = X.to_numpy()"
   ]
  },
  {
   "cell_type": "code",
   "execution_count": 32,
   "id": "17577506",
   "metadata": {},
   "outputs": [],
   "source": [
    "y = y.to_numpy()"
   ]
  },
  {
   "cell_type": "markdown",
   "id": "e1ef31b4",
   "metadata": {},
   "source": [
    "##### Splitting train and test data based on 70 percent train set and 30 percent test set."
   ]
  },
  {
   "cell_type": "code",
   "execution_count": 33,
   "id": "d1bc15b0",
   "metadata": {},
   "outputs": [],
   "source": [
    "X_train,X_test,y_train,y_test = train_test_split(X, y, test_size=0.3, random_state=42)"
   ]
  },
  {
   "cell_type": "code",
   "execution_count": 34,
   "id": "99b49421",
   "metadata": {},
   "outputs": [
    {
     "data": {
      "text/plain": [
       "((140, 5), (60, 5))"
      ]
     },
     "execution_count": 34,
     "metadata": {},
     "output_type": "execute_result"
    }
   ],
   "source": [
    "X_train.shape , X_test.shape"
   ]
  },
  {
   "cell_type": "markdown",
   "id": "d28603d5",
   "metadata": {},
   "source": [
    "##### Now we use random forest classifier in order to classify our target. We are also using One-vs-the-rest strategy as this is a multiclass classification problem."
   ]
  },
  {
   "cell_type": "code",
   "execution_count": 35,
   "id": "099059fd",
   "metadata": {},
   "outputs": [
    {
     "data": {
      "text/plain": [
       "OneVsRestClassifier(estimator=RandomForestClassifier(max_features=4,\n",
       "                                                     n_estimators=50, n_jobs=-1,\n",
       "                                                     random_state=42))"
      ]
     },
     "execution_count": 35,
     "metadata": {},
     "output_type": "execute_result"
    }
   ],
   "source": [
    "rf = OneVsRestClassifier(RandomForestClassifier(n_jobs=-1, n_estimators=50, max_features=4, random_state=42))\n",
    "rf.fit(X_train, y_train)"
   ]
  },
  {
   "cell_type": "markdown",
   "id": "ef88cfbc",
   "metadata": {},
   "source": [
    "##### In the random forest classifier we have used n_estimators and max_features as hyperparameters. max_features is the maxium number of features random forest take to split a node and n_estimators is number of trees."
   ]
  },
  {
   "cell_type": "code",
   "execution_count": 36,
   "id": "b5a5612d",
   "metadata": {},
   "outputs": [],
   "source": [
    "# prediction\n",
    "predict = rf.predict(X_test)"
   ]
  },
  {
   "cell_type": "code",
   "execution_count": 37,
   "id": "04b25b07",
   "metadata": {},
   "outputs": [
    {
     "name": "stdout",
     "output_type": "stream",
     "text": [
      "              precision    recall  f1-score   support\n",
      "\n",
      "           0       1.00      1.00      1.00        26\n",
      "           1       1.00      1.00      1.00         7\n",
      "           2       1.00      1.00      1.00         3\n",
      "           3       1.00      0.83      0.91         6\n",
      "           4       0.95      1.00      0.97        18\n",
      "\n",
      "    accuracy                           0.98        60\n",
      "   macro avg       0.99      0.97      0.98        60\n",
      "weighted avg       0.98      0.98      0.98        60\n",
      "\n"
     ]
    }
   ],
   "source": [
    "# result report\n",
    "report = classification_report(y_test, predict)\n",
    "print(report)"
   ]
  },
  {
   "cell_type": "markdown",
   "id": "5e15a0ef",
   "metadata": {},
   "source": [
    "##### Classification report shows precision, recall and f1-score. To understand the accuracy properly these evalution matrics are vital. Precision tells us how many of the correctly predicted cases actually turned out to be positive and recall tells us how many of the actual positive cases we are able to predict correctly with our model. F1 score requires where both precision and recall are significant in order to classify a model.\n",
    "##### From the above report we can see that precision is  99 and 98 percent based on macro avg and weighted avg, recall is 97 and 98 percent based on macro avg and weighted avg and f1-score is 98 percent. So the overall accuracy can be said as 98 percent."
   ]
  },
  {
   "cell_type": "markdown",
   "id": "eec0522c",
   "metadata": {},
   "source": [
    "#### Understanding how well the prediction works."
   ]
  },
  {
   "cell_type": "code",
   "execution_count": 38,
   "id": "76412675",
   "metadata": {},
   "outputs": [
    {
     "data": {
      "text/plain": [
       "array([[59,  0,  1,  0, 49]], dtype=int64)"
      ]
     },
     "execution_count": 38,
     "metadata": {},
     "output_type": "execute_result"
    }
   ],
   "source": [
    "X_test[3:4, 0:5]"
   ]
  },
  {
   "cell_type": "code",
   "execution_count": 39,
   "id": "21e694ab",
   "metadata": {},
   "outputs": [
    {
     "data": {
      "text/plain": [
       "array([3])"
      ]
     },
     "execution_count": 39,
     "metadata": {},
     "output_type": "execute_result"
    }
   ],
   "source": [
    "rf.predict(X_test[3:4, 0:5]) "
   ]
  },
  {
   "cell_type": "markdown",
   "id": "ad048cd1",
   "metadata": {},
   "source": [
    "##### The above prediction show 3 which is drugC"
   ]
  },
  {
   "cell_type": "code",
   "execution_count": 40,
   "id": "bf12161b",
   "metadata": {},
   "outputs": [
    {
     "data": {
      "text/plain": [
       "array([3])"
      ]
     },
     "execution_count": 40,
     "metadata": {},
     "output_type": "execute_result"
    }
   ],
   "source": [
    "y_test[3:4]"
   ]
  },
  {
   "cell_type": "code",
   "execution_count": 41,
   "id": "95a13c86",
   "metadata": {},
   "outputs": [
    {
     "data": {
      "text/plain": [
       "['G:/Data science Course/Assignments/model_version_assignment/model_version_asnmngt/models/model_v1.joblib']"
      ]
     },
     "execution_count": 41,
     "metadata": {},
     "output_type": "execute_result"
    }
   ],
   "source": [
    "dump(rf, 'G:/Data science Course/Assignments/model_version_assignment/model_version_asnmngt/models/model_v1.joblib')"
   ]
  },
  {
   "cell_type": "code",
   "execution_count": 42,
   "id": "1048adff",
   "metadata": {},
   "outputs": [
    {
     "data": {
      "text/plain": [
       "array([3])"
      ]
     },
     "execution_count": 42,
     "metadata": {},
     "output_type": "execute_result"
    }
   ],
   "source": [
    "clf = load('G:/Data science Course/Assignments/model_version_assignment/model_version_asnmngt/models/model_v1.joblib')\n",
    "clf.predict(X_test[3:4, 0:5])"
   ]
  },
  {
   "cell_type": "markdown",
   "id": "ad0b03c3",
   "metadata": {},
   "source": [
    "##### The actual test data also shows drugC in that position"
   ]
  },
  {
   "cell_type": "markdown",
   "id": "755ce070",
   "metadata": {},
   "source": [
    "### AUC-ROC Score and Curve"
   ]
  },
  {
   "cell_type": "markdown",
   "id": "5d57f31d",
   "metadata": {},
   "source": [
    "###### As this is a multiclass classification we cannot directly feed the prediction and calculate the roc score. Thus, we need to calculate the probability of prediction which is yhat in here."
   ]
  },
  {
   "cell_type": "code",
   "execution_count": 43,
   "id": "ac2129ca",
   "metadata": {},
   "outputs": [],
   "source": [
    "yhat = rf.predict_proba(X_test) "
   ]
  },
  {
   "cell_type": "code",
   "execution_count": 44,
   "id": "72d5605d",
   "metadata": {},
   "outputs": [
    {
     "data": {
      "text/plain": [
       "0.9969135802469136"
      ]
     },
     "execution_count": 44,
     "metadata": {},
     "output_type": "execute_result"
    }
   ],
   "source": [
    "roc_auc_score(y_test,yhat,multi_class = \"ovr\")"
   ]
  },
  {
   "cell_type": "code",
   "execution_count": 45,
   "id": "572553f9",
   "metadata": {},
   "outputs": [],
   "source": [
    "# calculate roc curve for multi-class model\n",
    "n_class = 5\n",
    "\n",
    "fpr = {}\n",
    "tpr = {}\n",
    "thresh ={}\n",
    "\n",
    "for i in range(n_class):    \n",
    "    fpr[i], tpr[i], thresh[i] = roc_curve(y_test, yhat[:,i], pos_label=i)"
   ]
  },
  {
   "cell_type": "code",
   "execution_count": 46,
   "id": "cc50ba5e",
   "metadata": {},
   "outputs": [
    {
     "data": {
      "text/plain": [
       "<matplotlib.legend.Legend at 0x1c05d777760>"
      ]
     },
     "execution_count": 46,
     "metadata": {},
     "output_type": "execute_result"
    },
    {
     "data": {
      "image/png": "[encoded data removed]",
      "text/plain": [
       "<Figure size 864x432 with 1 Axes>"
      ]
     },
     "metadata": {},
     "output_type": "display_data"
    }
   ],
   "source": [
    "plt.figure(figsize = (12,6))\n",
    "\n",
    "# plot no skill/RANDOM roc curve\n",
    "plt.plot([0, 1], [0, 1], linestyle='--')\n",
    "\n",
    "plt.plot(fpr[0], tpr[0], marker='o',color='orange', label='Class 0 vs Rest')\n",
    "plt.plot(fpr[1], tpr[1], marker='o',color='green', label='Class 1 vs Rest')\n",
    "plt.plot(fpr[2], tpr[2], marker='o',color='yellow', label='Class 2 vs Rest')\n",
    "plt.plot(fpr[3], tpr[3], marker='o',color='black', label='Class 3 vs Rest')\n",
    "plt.plot(fpr[4], tpr[4], marker='o',color='red', label='Class 4 vs Rest')\n",
    "\n",
    "plt.title('Multiclass ROC curve for Drug classification')\n",
    "plt.xlabel('False Positive Rate')\n",
    "plt.ylabel('True Positive rate')\n",
    "\n",
    "# show the plot\n",
    "plt.legend(loc='best')\n"
   ]
  },
  {
   "cell_type": "markdown",
   "id": "3fb621af",
   "metadata": {},
   "source": [
    "##### We also want to look at Grid search cross validation. Grid-search is used to find the optimal hyperparameters of a model which results in the most ‘accurate’ predictions and Cross-validation is a resampling procedure used to evaluate machine learning models on a limited data sample."
   ]
  },
  {
   "cell_type": "code",
   "execution_count": 47,
   "id": "59020653",
   "metadata": {},
   "outputs": [
    {
     "name": "stdout",
     "output_type": "stream",
     "text": [
      "Fitting 10 folds for each of 24 candidates, totalling 240 fits\n"
     ]
    },
    {
     "data": {
      "text/plain": [
       "GridSearchCV(cv=10,\n",
       "             estimator=OneVsRestClassifier(estimator=RandomForestClassifier(random_state=42)),\n",
       "             n_jobs=-1,\n",
       "             param_grid={'estimator__criterion': ['gini', 'entropy'],\n",
       "                         'estimator__max_features': [2, 3, 4, 5],\n",
       "                         'estimator__n_estimators': [1, 200, 2]},\n",
       "             verbose=2)"
      ]
     },
     "execution_count": 47,
     "metadata": {},
     "output_type": "execute_result"
    }
   ],
   "source": [
    "#GridSearchCV\n",
    "rf2 = OneVsRestClassifier(RandomForestClassifier(random_state=42))\n",
    "\n",
    "params = {'estimator__n_estimators': [1,200,2],\n",
    "          'estimator__max_features': [2,3,4,5],\n",
    "          'estimator__criterion':['gini','entropy'] \n",
    "         }\n",
    "\n",
    "rf_grid = GridSearchCV(rf2, param_grid=params, cv=10, verbose=2,n_jobs=-1)\n",
    "rf_grid.fit(X_train, y_train)"
   ]
  },
  {
   "cell_type": "markdown",
   "id": "335ecfb3",
   "metadata": {},
   "source": [
    "##### Above the parameters n_estimators,max_features and criterion and we use 10 fold for cross validation."
   ]
  },
  {
   "cell_type": "code",
   "execution_count": 48,
   "id": "46c139d9",
   "metadata": {},
   "outputs": [
    {
     "name": "stdout",
     "output_type": "stream",
     "text": [
      "Train Score: 0.9928571428571429\n",
      "Best parameters >>> {'estimator__criterion': 'gini', 'estimator__max_features': 3, 'estimator__n_estimators': 200}\n",
      "Test Score: 0.9833333333333333\n"
     ]
    }
   ],
   "source": [
    "# print information\n",
    "print(f'Train Score: {rf_grid.best_score_}')\n",
    "print(f'Best parameters >>> {rf_grid.best_params_}')\n",
    "\n",
    "print(f'Test Score: {rf_grid.score(X_test,y_test)}')"
   ]
  },
  {
   "cell_type": "markdown",
   "id": "ef8c12ac",
   "metadata": {},
   "source": [
    "##### We have printed out the train score, test score and the best parameter for grid search cv that helps to determine the best hyperparameters for accurate predictions. Here the best parameters are criterion': 'gini', max_features': 3 and n_estimators': 200."
   ]
  }
 ],
 "metadata": {
  "kernelspec": {
   "display_name": "Python 3.9.12 ('base')",
   "language": "python",
   "name": "python3"
  },
  "language_info": {
   "codemirror_mode": {
    "name": "ipython",
    "version": 3
   },
   "file_extension": ".py",
   "mimetype": "text/x-python",
   "name": "python",
   "nbconvert_exporter": "python",
   "pygments_lexer": "ipython3",
   "version": "3.9.12"
  },
  "vscode": {
   "interpreter": {
    "hash": "5179d32cf6ec497baf3f8a3ef987cc77c5d2dc691fdde20a56316522f61a7323"
   }
  }
 },
 "nbformat": 4,
 "nbformat_minor": 5
}
